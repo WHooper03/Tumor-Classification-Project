{
 "cells": [
  {
   "cell_type": "markdown",
   "id": "7edd80aa",
   "metadata": {},
   "source": [
    "# Tumor Classification Project"
   ]
  },
  {
   "cell_type": "markdown",
   "id": "fe1e9574",
   "metadata": {},
   "source": [
    "### Description:\n",
    "\n",
    "The purpose of this project is the employ computer vision and a CNN in order to classify MRI images of brains with and without tumors. The primary purpose is to train the model on a binary classifier (tumor or no tumor), then secondarily to classify the type of tumor if one is present."
   ]
  },
  {
   "cell_type": "markdown",
   "id": "d0209a8d",
   "metadata": {},
   "source": [
    "### Dataset:\n",
    "https://www.kaggle.com/datasets/navoneel/brain-mri-images-for-brain-tumor-detection\n",
    "\n",
    "The data set provides the MRI images in their own folders of either 'yes' or 'no' (referring to if the scan contains a tumor). There are 154 images in the yes folder (tumor) and 91 in the no folder (healthy)."
   ]
  },
  {
   "cell_type": "markdown",
   "id": "d9e677e8",
   "metadata": {},
   "source": [
    "### Importing Packages"
   ]
  },
  {
   "cell_type": "code",
   "execution_count": null,
   "id": "7de1eda1",
   "metadata": {},
   "outputs": [
    {
     "name": "stderr",
     "output_type": "stream",
     "text": [
      "Matplotlib is building the font cache; this may take a moment.\n"
     ]
    }
   ],
   "source": [
    "#Importing primary packages\n",
    "import numpy as np\n",
    "import torch\n",
    "import glob\n",
    "import cv2\n",
    "\n",
    "#Importing Dependencies\n",
    "from torch.utils.data import Dataset, DataLoader\n",
    "import matplotlib.pyplot as plt\n",
    "from sklearn.metrics import confusion_matrix, accuracy_score"
   ]
  },
  {
   "cell_type": "markdown",
   "id": "e99a96c1",
   "metadata": {},
   "source": [
    "### Data Reading"
   ]
  },
  {
   "cell_type": "code",
   "execution_count": null,
   "id": "c7f257dc",
   "metadata": {},
   "outputs": [],
   "source": [
    "#First creating empty lists\n",
    "tumor = []\n",
    "healthy = []\n",
    "\n",
    "#Then iterating over all images and appending them to the empty lists\n",
    "for f in glob.iglob('C:/Data/brain_tumor_dataset/yes/*.jpg'):\n",
    "    img = cv2.imread(f)\n",
    "    img = cv2.resize(img, (128,128))\n",
    "    b, g, r = cv2.split(img)\n",
    "    img = cv2.merge([r,g,b])\n",
    "    tumor.append(img)\n",
    "\n",
    "for f in glob.iglob('C:/Data/brain_tumor_dataset/no/*.jpg'):\n",
    "    img = cv2.imread(f)\n",
    "    img = cv2.resize(img, (128,128))\n",
    "    b, g, r = cv2.split(img)\n",
    "    img = cv2.merge([r,g,b])\n",
    "    healthy.append(img)"
   ]
  },
  {
   "cell_type": "code",
   "execution_count": null,
   "id": "f3e3bec2",
   "metadata": {},
   "outputs": [],
   "source": [
    "#Verifying all the previous steps worked properly; we should see 154 images, sized to 128x128 dimensions and 3 different channels for rgb values.\n",
    "tumor.shape"
   ]
  },
  {
   "cell_type": "code",
   "execution_count": 14,
   "id": "73bc165f",
   "metadata": {},
   "outputs": [],
   "source": [
    "#Making the lists into arrays that can be processed by the ML model\n",
    "healthy = np.array(healthy)\n",
    "tumor = np.array(tumor)\n",
    "\n",
    "#Combining the two datasets so we can randomize, split, and feed to the model.\n",
    "All = np.concatenate((healthy,tumor))"
   ]
  },
  {
   "cell_type": "code",
   "execution_count": 15,
   "id": "5ea70a81",
   "metadata": {},
   "outputs": [
    {
     "data": {
      "text/plain": [
       "(245, 128, 128, 3)"
      ]
     },
     "execution_count": 15,
     "metadata": {},
     "output_type": "execute_result"
    }
   ],
   "source": [
    "#Checking that our concatenation was done properly\n",
    "All.shape"
   ]
  },
  {
   "cell_type": "code",
   "execution_count": null,
   "id": "0242015a",
   "metadata": {},
   "outputs": [],
   "source": []
  }
 ],
 "metadata": {
  "kernelspec": {
   "display_name": "Python 3",
   "language": "python",
   "name": "python3"
  },
  "language_info": {
   "codemirror_mode": {
    "name": "ipython",
    "version": 3
   },
   "file_extension": ".py",
   "mimetype": "text/x-python",
   "name": "python",
   "nbconvert_exporter": "python",
   "pygments_lexer": "ipython3",
   "version": "3.13.4"
  }
 },
 "nbformat": 4,
 "nbformat_minor": 5
}
