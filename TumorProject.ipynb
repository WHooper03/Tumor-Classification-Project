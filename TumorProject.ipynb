{
 "cells": [
  {
   "cell_type": "markdown",
   "id": "7edd80aa",
   "metadata": {},
   "source": [
    "# Tumor Classification Project"
   ]
  },
  {
   "cell_type": "markdown",
   "id": "fe1e9574",
   "metadata": {},
   "source": [
    "### Description:\n",
    "\n",
    "The purpose of this project is the employ computer vision and a CNN in order to classify MRI images of brains with and without tumors. The primary purpose is to train the model on a binary classifier (tumor or no tumor), then secondarily to classify the type of tumor if one is present."
   ]
  },
  {
   "cell_type": "markdown",
   "id": "d0209a8d",
   "metadata": {},
   "source": [
    "### Dataset:\n",
    "https://www.kaggle.com/datasets/navoneel/brain-mri-images-for-brain-tumor-detection"
   ]
  },
  {
   "cell_type": "markdown",
   "id": "d9e677e8",
   "metadata": {},
   "source": [
    "### Importing Packages"
   ]
  },
  {
   "cell_type": "code",
   "execution_count": 1,
   "id": "7de1eda1",
   "metadata": {},
   "outputs": [],
   "source": [
    "import numpy as np"
   ]
  },
  {
   "cell_type": "markdown",
   "id": "89ed58bb",
   "metadata": {},
   "source": [
    "Below I had to import the base packages of torch and torchvision in their own independent cells in order to prevent a circular import error."
   ]
  },
  {
   "cell_type": "code",
   "execution_count": 2,
   "id": "6ec3c10a",
   "metadata": {},
   "outputs": [],
   "source": [
    "from PIL import Image\n",
    "\n",
    "import torch\n",
    "\n",
    "import torchvision"
   ]
  },
  {
   "cell_type": "code",
   "execution_count": 5,
   "id": "00de17cb",
   "metadata": {},
   "outputs": [],
   "source": [
    "import torch.nn as nn\n",
    "import torch.nn.functional as F\n",
    "import torch.optim as optim\n",
    "\n",
    "import torchvision.transforms as transforms"
   ]
  },
  {
   "cell_type": "code",
   "execution_count": 6,
   "id": "9db9d906",
   "metadata": {},
   "outputs": [],
   "source": [
    "transforms = transforms.Compose([\n",
    "    transforms.ToTensor(),\n",
    "    transforms.Normalize((0.5,0.5,0.5), (0.5,0.5,0.5))\n",
    "])"
   ]
  },
  {
   "cell_type": "code",
   "execution_count": null,
   "id": "3aa3a34d",
   "metadata": {},
   "outputs": [],
   "source": [
    "train_data = torch.vision.datasets.CIFAR10(root='./data', train=True, transform=transform, download=True)\n",
    "test_data = torch.vision.datasets.CIFAR10(root='./data', train=False, transform=transform, download=True)\n",
    "\n",
    "train_loader = torch.utils.data.DataLoader(train_data, batch_size=32, shuffle=True, num_workers=2)\n",
    "test_loader = torch.utils.data.DataLoader(test_data, batch_size=32, shuffle=True, num_workers=2)"
   ]
  }
 ],
 "metadata": {
  "kernelspec": {
   "display_name": "Python 3",
   "language": "python",
   "name": "python3"
  },
  "language_info": {
   "codemirror_mode": {
    "name": "ipython",
    "version": 3
   },
   "file_extension": ".py",
   "mimetype": "text/x-python",
   "name": "python",
   "nbconvert_exporter": "python",
   "pygments_lexer": "ipython3",
   "version": "3.13.4"
  }
 },
 "nbformat": 4,
 "nbformat_minor": 5
}
